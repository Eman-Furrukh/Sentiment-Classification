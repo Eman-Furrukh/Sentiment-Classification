{
 "cells": [
  {
   "cell_type": "markdown",
   "id": "642677c3",
   "metadata": {},
   "source": [
    "# Eman Furrukh"
   ]
  },
  {
   "cell_type": "markdown",
   "id": "96f97882",
   "metadata": {},
   "source": [
    "# 21i-1726"
   ]
  },
  {
   "cell_type": "markdown",
   "id": "da83a482",
   "metadata": {},
   "source": [
    "# Introduction to Data Science"
   ]
  },
  {
   "cell_type": "markdown",
   "id": "e378b2d7",
   "metadata": {},
   "source": [
    "# Project"
   ]
  },
  {
   "cell_type": "code",
   "execution_count": 1,
   "id": "339e549f",
   "metadata": {},
   "outputs": [
    {
     "name": "stdout",
     "output_type": "stream",
     "text": [
      "Requirement already satisfied: opencv-python in c:\\users\\dell\\anaconda3\\lib\\site-packages (4.6.0.66)\n",
      "Requirement already satisfied: numpy>=1.14.5 in c:\\users\\dell\\anaconda3\\lib\\site-packages (from opencv-python) (1.21.5)\n"
     ]
    }
   ],
   "source": [
    "!pip install opencv-python"
   ]
  },
  {
   "cell_type": "code",
   "execution_count": 2,
   "id": "102c9c96",
   "metadata": {},
   "outputs": [
    {
     "name": "stdout",
     "output_type": "stream",
     "text": [
      "Requirement already satisfied: imblearn in c:\\users\\dell\\anaconda3\\lib\\site-packages (0.0)\n",
      "Requirement already satisfied: imbalanced-learn in c:\\users\\dell\\anaconda3\\lib\\site-packages (from imblearn) (0.10.0)\n",
      "Requirement already satisfied: joblib>=1.1.1 in c:\\users\\dell\\anaconda3\\lib\\site-packages (from imbalanced-learn->imblearn) (1.2.0)\n",
      "Requirement already satisfied: threadpoolctl>=2.0.0 in c:\\users\\dell\\anaconda3\\lib\\site-packages (from imbalanced-learn->imblearn) (2.2.0)\n",
      "Requirement already satisfied: numpy>=1.17.3 in c:\\users\\dell\\anaconda3\\lib\\site-packages (from imbalanced-learn->imblearn) (1.21.5)\n",
      "Requirement already satisfied: scipy>=1.3.2 in c:\\users\\dell\\anaconda3\\lib\\site-packages (from imbalanced-learn->imblearn) (1.7.3)\n",
      "Requirement already satisfied: scikit-learn>=1.0.2 in c:\\users\\dell\\anaconda3\\lib\\site-packages (from imbalanced-learn->imblearn) (1.2.0)\n",
      "Note: you may need to restart the kernel to use updated packages.\n"
     ]
    }
   ],
   "source": [
    "pip install imblearn"
   ]
  },
  {
   "cell_type": "code",
   "execution_count": 3,
   "id": "696805e3",
   "metadata": {},
   "outputs": [],
   "source": [
    "#libraries \n",
    "import re\n",
    "import sklearn\n",
    "import pandas as pd\n",
    "import numpy as np\n",
    "import matplotlib.pyplot as plt\n",
    "from sklearn.model_selection import train_test_split\n",
    "from sklearn.metrics import confusion_matrix\n",
    "from sklearn.metrics import accuracy_score\n",
    "from sklearn.metrics import f1_score\n",
    "from sklearn.preprocessing import StandardScaler\n",
    "from sklearn.preprocessing import MinMaxScaler\n",
    "from sklearn.metrics import classification_report\n",
    "from sklearn import tree\n",
    "from sklearn.neighbors import KNeighborsClassifier\n",
    "from sklearn.neighbors import KNeighborsClassifier as knn\n",
    "from sklearn.feature_extraction.text import CountVectorizer as cv\n",
    "from sklearn.linear_model import LogisticRegression as lr\n",
    "from sklearn import metrics"
   ]
  },
  {
   "cell_type": "markdown",
   "id": "60c6a6e5",
   "metadata": {},
   "source": [
    "Text Processing"
   ]
  },
  {
   "cell_type": "code",
   "execution_count": 4,
   "id": "5720307c",
   "metadata": {},
   "outputs": [
    {
     "data": {
      "text/html": [
       "<div>\n",
       "<style scoped>\n",
       "    .dataframe tbody tr th:only-of-type {\n",
       "        vertical-align: middle;\n",
       "    }\n",
       "\n",
       "    .dataframe tbody tr th {\n",
       "        vertical-align: top;\n",
       "    }\n",
       "\n",
       "    .dataframe thead th {\n",
       "        text-align: right;\n",
       "    }\n",
       "</style>\n",
       "<table border=\"1\" class=\"dataframe\">\n",
       "  <thead>\n",
       "    <tr style=\"text-align: right;\">\n",
       "      <th></th>\n",
       "      <th>Unnamed: 0</th>\n",
       "      <th>image_name</th>\n",
       "      <th>text_ocr</th>\n",
       "      <th>text_corrected</th>\n",
       "      <th>overall_sentiment</th>\n",
       "    </tr>\n",
       "  </thead>\n",
       "  <tbody>\n",
       "    <tr>\n",
       "      <th>0</th>\n",
       "      <td>0</td>\n",
       "      <td>image_1.jpg</td>\n",
       "      <td>LOOK THERE MY FRIEND LIGHTYEAR NOW ALL SOHALIK...</td>\n",
       "      <td>LOOK THERE MY FRIEND LIGHTYEAR NOW ALL SOHALIK...</td>\n",
       "      <td>very_positive</td>\n",
       "    </tr>\n",
       "    <tr>\n",
       "      <th>1</th>\n",
       "      <td>1</td>\n",
       "      <td>image_2.jpeg</td>\n",
       "      <td>The best of #10 YearChallenge! Completed in le...</td>\n",
       "      <td>The best of #10 YearChallenge! Completed in le...</td>\n",
       "      <td>very_positive</td>\n",
       "    </tr>\n",
       "    <tr>\n",
       "      <th>2</th>\n",
       "      <td>2</td>\n",
       "      <td>image_3.JPG</td>\n",
       "      <td>Sam Thorne @Strippin ( Follow Follow Saw every...</td>\n",
       "      <td>Sam Thorne @Strippin ( Follow Follow Saw every...</td>\n",
       "      <td>positive</td>\n",
       "    </tr>\n",
       "    <tr>\n",
       "      <th>3</th>\n",
       "      <td>3</td>\n",
       "      <td>image_4.png</td>\n",
       "      <td>10 Year Challenge - Sweet Dee Edition</td>\n",
       "      <td>10 Year Challenge - Sweet Dee Edition</td>\n",
       "      <td>positive</td>\n",
       "    </tr>\n",
       "    <tr>\n",
       "      <th>4</th>\n",
       "      <td>4</td>\n",
       "      <td>image_5.png</td>\n",
       "      <td>10 YEAR CHALLENGE WITH NO FILTER 47 Hilarious ...</td>\n",
       "      <td>10 YEAR CHALLENGE WITH NO FILTER 47 Hilarious ...</td>\n",
       "      <td>neutral</td>\n",
       "    </tr>\n",
       "    <tr>\n",
       "      <th>...</th>\n",
       "      <td>...</td>\n",
       "      <td>...</td>\n",
       "      <td>...</td>\n",
       "      <td>...</td>\n",
       "      <td>...</td>\n",
       "    </tr>\n",
       "    <tr>\n",
       "      <th>6987</th>\n",
       "      <td>6987</td>\n",
       "      <td>image_6988.jpg</td>\n",
       "      <td>Tuesday is Mardi Gras Wednesday is Valentine's...</td>\n",
       "      <td>Tuesday is Mardi Gras Wednesday is Valentine's...</td>\n",
       "      <td>neutral</td>\n",
       "    </tr>\n",
       "    <tr>\n",
       "      <th>6988</th>\n",
       "      <td>6988</td>\n",
       "      <td>image_6989.jpg</td>\n",
       "      <td>MUST WATCH MOVIES OF 2017 ITI Chennai memes MA...</td>\n",
       "      <td>MUST WATCH MOVIES OF 2017 ITI Chennai memes MA...</td>\n",
       "      <td>neutral</td>\n",
       "    </tr>\n",
       "    <tr>\n",
       "      <th>6989</th>\n",
       "      <td>6989</td>\n",
       "      <td>image_6990.png</td>\n",
       "      <td>LESS MORE TALKING PLANNING SODA JUNK FOOD COMP...</td>\n",
       "      <td>LESS MORE TALKING PLANNING SODA JUNK FOOD COMP...</td>\n",
       "      <td>positive</td>\n",
       "    </tr>\n",
       "    <tr>\n",
       "      <th>6990</th>\n",
       "      <td>6990</td>\n",
       "      <td>image_6991.jpg</td>\n",
       "      <td>When I VERY have time is a fantasy No one has ...</td>\n",
       "      <td>When I have time is a fantasy. no one has time...</td>\n",
       "      <td>very_positive</td>\n",
       "    </tr>\n",
       "    <tr>\n",
       "      <th>6991</th>\n",
       "      <td>6991</td>\n",
       "      <td>image_6992.jpg</td>\n",
       "      <td>The starting point for every good idea is \"Wha...</td>\n",
       "      <td>The starting point for every good idea is \"Wha...</td>\n",
       "      <td>positive</td>\n",
       "    </tr>\n",
       "  </tbody>\n",
       "</table>\n",
       "<p>6992 rows × 5 columns</p>\n",
       "</div>"
      ],
      "text/plain": [
       "      Unnamed: 0      image_name  \\\n",
       "0              0     image_1.jpg   \n",
       "1              1    image_2.jpeg   \n",
       "2              2     image_3.JPG   \n",
       "3              3     image_4.png   \n",
       "4              4     image_5.png   \n",
       "...          ...             ...   \n",
       "6987        6987  image_6988.jpg   \n",
       "6988        6988  image_6989.jpg   \n",
       "6989        6989  image_6990.png   \n",
       "6990        6990  image_6991.jpg   \n",
       "6991        6991  image_6992.jpg   \n",
       "\n",
       "                                               text_ocr  \\\n",
       "0     LOOK THERE MY FRIEND LIGHTYEAR NOW ALL SOHALIK...   \n",
       "1     The best of #10 YearChallenge! Completed in le...   \n",
       "2     Sam Thorne @Strippin ( Follow Follow Saw every...   \n",
       "3                 10 Year Challenge - Sweet Dee Edition   \n",
       "4     10 YEAR CHALLENGE WITH NO FILTER 47 Hilarious ...   \n",
       "...                                                 ...   \n",
       "6987  Tuesday is Mardi Gras Wednesday is Valentine's...   \n",
       "6988  MUST WATCH MOVIES OF 2017 ITI Chennai memes MA...   \n",
       "6989  LESS MORE TALKING PLANNING SODA JUNK FOOD COMP...   \n",
       "6990  When I VERY have time is a fantasy No one has ...   \n",
       "6991  The starting point for every good idea is \"Wha...   \n",
       "\n",
       "                                         text_corrected overall_sentiment  \n",
       "0     LOOK THERE MY FRIEND LIGHTYEAR NOW ALL SOHALIK...     very_positive  \n",
       "1     The best of #10 YearChallenge! Completed in le...     very_positive  \n",
       "2     Sam Thorne @Strippin ( Follow Follow Saw every...          positive  \n",
       "3                 10 Year Challenge - Sweet Dee Edition          positive  \n",
       "4     10 YEAR CHALLENGE WITH NO FILTER 47 Hilarious ...           neutral  \n",
       "...                                                 ...               ...  \n",
       "6987  Tuesday is Mardi Gras Wednesday is Valentine's...           neutral  \n",
       "6988  MUST WATCH MOVIES OF 2017 ITI Chennai memes MA...           neutral  \n",
       "6989  LESS MORE TALKING PLANNING SODA JUNK FOOD COMP...          positive  \n",
       "6990  When I have time is a fantasy. no one has time...     very_positive  \n",
       "6991  The starting point for every good idea is \"Wha...          positive  \n",
       "\n",
       "[6992 rows x 5 columns]"
      ]
     },
     "execution_count": 4,
     "metadata": {},
     "output_type": "execute_result"
    }
   ],
   "source": [
    "#load file into notebook\n",
    "df = pd.read_csv('labels.csv')\n",
    "df"
   ]
  },
  {
   "cell_type": "code",
   "execution_count": 5,
   "id": "9aff690c",
   "metadata": {},
   "outputs": [
    {
     "data": {
      "text/html": [
       "<div>\n",
       "<style scoped>\n",
       "    .dataframe tbody tr th:only-of-type {\n",
       "        vertical-align: middle;\n",
       "    }\n",
       "\n",
       "    .dataframe tbody tr th {\n",
       "        vertical-align: top;\n",
       "    }\n",
       "\n",
       "    .dataframe thead th {\n",
       "        text-align: right;\n",
       "    }\n",
       "</style>\n",
       "<table border=\"1\" class=\"dataframe\">\n",
       "  <thead>\n",
       "    <tr style=\"text-align: right;\">\n",
       "      <th></th>\n",
       "      <th>image_name</th>\n",
       "      <th>text_ocr</th>\n",
       "      <th>text_corrected</th>\n",
       "      <th>overall_sentiment</th>\n",
       "    </tr>\n",
       "  </thead>\n",
       "  <tbody>\n",
       "    <tr>\n",
       "      <th>0</th>\n",
       "      <td>image_1.jpg</td>\n",
       "      <td>LOOK THERE MY FRIEND LIGHTYEAR NOW ALL SOHALIK...</td>\n",
       "      <td>LOOK THERE MY FRIEND LIGHTYEAR NOW ALL SOHALIK...</td>\n",
       "      <td>very_positive</td>\n",
       "    </tr>\n",
       "    <tr>\n",
       "      <th>1</th>\n",
       "      <td>image_2.jpeg</td>\n",
       "      <td>The best of #10 YearChallenge! Completed in le...</td>\n",
       "      <td>The best of #10 YearChallenge! Completed in le...</td>\n",
       "      <td>very_positive</td>\n",
       "    </tr>\n",
       "    <tr>\n",
       "      <th>2</th>\n",
       "      <td>image_3.JPG</td>\n",
       "      <td>Sam Thorne @Strippin ( Follow Follow Saw every...</td>\n",
       "      <td>Sam Thorne @Strippin ( Follow Follow Saw every...</td>\n",
       "      <td>positive</td>\n",
       "    </tr>\n",
       "    <tr>\n",
       "      <th>3</th>\n",
       "      <td>image_4.png</td>\n",
       "      <td>10 Year Challenge - Sweet Dee Edition</td>\n",
       "      <td>10 Year Challenge - Sweet Dee Edition</td>\n",
       "      <td>positive</td>\n",
       "    </tr>\n",
       "    <tr>\n",
       "      <th>4</th>\n",
       "      <td>image_5.png</td>\n",
       "      <td>10 YEAR CHALLENGE WITH NO FILTER 47 Hilarious ...</td>\n",
       "      <td>10 YEAR CHALLENGE WITH NO FILTER 47 Hilarious ...</td>\n",
       "      <td>neutral</td>\n",
       "    </tr>\n",
       "    <tr>\n",
       "      <th>...</th>\n",
       "      <td>...</td>\n",
       "      <td>...</td>\n",
       "      <td>...</td>\n",
       "      <td>...</td>\n",
       "    </tr>\n",
       "    <tr>\n",
       "      <th>6987</th>\n",
       "      <td>image_6988.jpg</td>\n",
       "      <td>Tuesday is Mardi Gras Wednesday is Valentine's...</td>\n",
       "      <td>Tuesday is Mardi Gras Wednesday is Valentine's...</td>\n",
       "      <td>neutral</td>\n",
       "    </tr>\n",
       "    <tr>\n",
       "      <th>6988</th>\n",
       "      <td>image_6989.jpg</td>\n",
       "      <td>MUST WATCH MOVIES OF 2017 ITI Chennai memes MA...</td>\n",
       "      <td>MUST WATCH MOVIES OF 2017 ITI Chennai memes MA...</td>\n",
       "      <td>neutral</td>\n",
       "    </tr>\n",
       "    <tr>\n",
       "      <th>6989</th>\n",
       "      <td>image_6990.png</td>\n",
       "      <td>LESS MORE TALKING PLANNING SODA JUNK FOOD COMP...</td>\n",
       "      <td>LESS MORE TALKING PLANNING SODA JUNK FOOD COMP...</td>\n",
       "      <td>positive</td>\n",
       "    </tr>\n",
       "    <tr>\n",
       "      <th>6990</th>\n",
       "      <td>image_6991.jpg</td>\n",
       "      <td>When I VERY have time is a fantasy No one has ...</td>\n",
       "      <td>When I have time is a fantasy. no one has time...</td>\n",
       "      <td>very_positive</td>\n",
       "    </tr>\n",
       "    <tr>\n",
       "      <th>6991</th>\n",
       "      <td>image_6992.jpg</td>\n",
       "      <td>The starting point for every good idea is \"Wha...</td>\n",
       "      <td>The starting point for every good idea is \"Wha...</td>\n",
       "      <td>positive</td>\n",
       "    </tr>\n",
       "  </tbody>\n",
       "</table>\n",
       "<p>6992 rows × 4 columns</p>\n",
       "</div>"
      ],
      "text/plain": [
       "          image_name                                           text_ocr  \\\n",
       "0        image_1.jpg  LOOK THERE MY FRIEND LIGHTYEAR NOW ALL SOHALIK...   \n",
       "1       image_2.jpeg  The best of #10 YearChallenge! Completed in le...   \n",
       "2        image_3.JPG  Sam Thorne @Strippin ( Follow Follow Saw every...   \n",
       "3        image_4.png              10 Year Challenge - Sweet Dee Edition   \n",
       "4        image_5.png  10 YEAR CHALLENGE WITH NO FILTER 47 Hilarious ...   \n",
       "...              ...                                                ...   \n",
       "6987  image_6988.jpg  Tuesday is Mardi Gras Wednesday is Valentine's...   \n",
       "6988  image_6989.jpg  MUST WATCH MOVIES OF 2017 ITI Chennai memes MA...   \n",
       "6989  image_6990.png  LESS MORE TALKING PLANNING SODA JUNK FOOD COMP...   \n",
       "6990  image_6991.jpg  When I VERY have time is a fantasy No one has ...   \n",
       "6991  image_6992.jpg  The starting point for every good idea is \"Wha...   \n",
       "\n",
       "                                         text_corrected overall_sentiment  \n",
       "0     LOOK THERE MY FRIEND LIGHTYEAR NOW ALL SOHALIK...     very_positive  \n",
       "1     The best of #10 YearChallenge! Completed in le...     very_positive  \n",
       "2     Sam Thorne @Strippin ( Follow Follow Saw every...          positive  \n",
       "3                 10 Year Challenge - Sweet Dee Edition          positive  \n",
       "4     10 YEAR CHALLENGE WITH NO FILTER 47 Hilarious ...           neutral  \n",
       "...                                                 ...               ...  \n",
       "6987  Tuesday is Mardi Gras Wednesday is Valentine's...           neutral  \n",
       "6988  MUST WATCH MOVIES OF 2017 ITI Chennai memes MA...           neutral  \n",
       "6989  LESS MORE TALKING PLANNING SODA JUNK FOOD COMP...          positive  \n",
       "6990  When I have time is a fantasy. no one has time...     very_positive  \n",
       "6991  The starting point for every good idea is \"Wha...          positive  \n",
       "\n",
       "[6992 rows x 4 columns]"
      ]
     },
     "execution_count": 5,
     "metadata": {},
     "output_type": "execute_result"
    }
   ],
   "source": [
    "#drop coloumn\n",
    "df = df.drop(columns = ['Unnamed: 0'])\n",
    "df"
   ]
  },
  {
   "cell_type": "code",
   "execution_count": 6,
   "id": "714ba51a",
   "metadata": {},
   "outputs": [
    {
     "data": {
      "text/html": [
       "<div>\n",
       "<style scoped>\n",
       "    .dataframe tbody tr th:only-of-type {\n",
       "        vertical-align: middle;\n",
       "    }\n",
       "\n",
       "    .dataframe tbody tr th {\n",
       "        vertical-align: top;\n",
       "    }\n",
       "\n",
       "    .dataframe thead th {\n",
       "        text-align: right;\n",
       "    }\n",
       "</style>\n",
       "<table border=\"1\" class=\"dataframe\">\n",
       "  <thead>\n",
       "    <tr style=\"text-align: right;\">\n",
       "      <th></th>\n",
       "      <th>image_name</th>\n",
       "      <th>text_corrected</th>\n",
       "      <th>overall_sentiment</th>\n",
       "    </tr>\n",
       "  </thead>\n",
       "  <tbody>\n",
       "    <tr>\n",
       "      <th>0</th>\n",
       "      <td>image_1.jpg</td>\n",
       "      <td>LOOK THERE MY FRIEND LIGHTYEAR NOW ALL SOHALIK...</td>\n",
       "      <td>very_positive</td>\n",
       "    </tr>\n",
       "    <tr>\n",
       "      <th>1</th>\n",
       "      <td>image_2.jpeg</td>\n",
       "      <td>The best of #10 YearChallenge! Completed in le...</td>\n",
       "      <td>very_positive</td>\n",
       "    </tr>\n",
       "    <tr>\n",
       "      <th>2</th>\n",
       "      <td>image_3.JPG</td>\n",
       "      <td>Sam Thorne @Strippin ( Follow Follow Saw every...</td>\n",
       "      <td>positive</td>\n",
       "    </tr>\n",
       "    <tr>\n",
       "      <th>3</th>\n",
       "      <td>image_4.png</td>\n",
       "      <td>10 Year Challenge - Sweet Dee Edition</td>\n",
       "      <td>positive</td>\n",
       "    </tr>\n",
       "    <tr>\n",
       "      <th>4</th>\n",
       "      <td>image_5.png</td>\n",
       "      <td>10 YEAR CHALLENGE WITH NO FILTER 47 Hilarious ...</td>\n",
       "      <td>neutral</td>\n",
       "    </tr>\n",
       "    <tr>\n",
       "      <th>...</th>\n",
       "      <td>...</td>\n",
       "      <td>...</td>\n",
       "      <td>...</td>\n",
       "    </tr>\n",
       "    <tr>\n",
       "      <th>6987</th>\n",
       "      <td>image_6988.jpg</td>\n",
       "      <td>Tuesday is Mardi Gras Wednesday is Valentine's...</td>\n",
       "      <td>neutral</td>\n",
       "    </tr>\n",
       "    <tr>\n",
       "      <th>6988</th>\n",
       "      <td>image_6989.jpg</td>\n",
       "      <td>MUST WATCH MOVIES OF 2017 ITI Chennai memes MA...</td>\n",
       "      <td>neutral</td>\n",
       "    </tr>\n",
       "    <tr>\n",
       "      <th>6989</th>\n",
       "      <td>image_6990.png</td>\n",
       "      <td>LESS MORE TALKING PLANNING SODA JUNK FOOD COMP...</td>\n",
       "      <td>positive</td>\n",
       "    </tr>\n",
       "    <tr>\n",
       "      <th>6990</th>\n",
       "      <td>image_6991.jpg</td>\n",
       "      <td>When I have time is a fantasy. no one has time...</td>\n",
       "      <td>very_positive</td>\n",
       "    </tr>\n",
       "    <tr>\n",
       "      <th>6991</th>\n",
       "      <td>image_6992.jpg</td>\n",
       "      <td>The starting point for every good idea is \"Wha...</td>\n",
       "      <td>positive</td>\n",
       "    </tr>\n",
       "  </tbody>\n",
       "</table>\n",
       "<p>6992 rows × 3 columns</p>\n",
       "</div>"
      ],
      "text/plain": [
       "          image_name                                     text_corrected  \\\n",
       "0        image_1.jpg  LOOK THERE MY FRIEND LIGHTYEAR NOW ALL SOHALIK...   \n",
       "1       image_2.jpeg  The best of #10 YearChallenge! Completed in le...   \n",
       "2        image_3.JPG  Sam Thorne @Strippin ( Follow Follow Saw every...   \n",
       "3        image_4.png              10 Year Challenge - Sweet Dee Edition   \n",
       "4        image_5.png  10 YEAR CHALLENGE WITH NO FILTER 47 Hilarious ...   \n",
       "...              ...                                                ...   \n",
       "6987  image_6988.jpg  Tuesday is Mardi Gras Wednesday is Valentine's...   \n",
       "6988  image_6989.jpg  MUST WATCH MOVIES OF 2017 ITI Chennai memes MA...   \n",
       "6989  image_6990.png  LESS MORE TALKING PLANNING SODA JUNK FOOD COMP...   \n",
       "6990  image_6991.jpg  When I have time is a fantasy. no one has time...   \n",
       "6991  image_6992.jpg  The starting point for every good idea is \"Wha...   \n",
       "\n",
       "     overall_sentiment  \n",
       "0        very_positive  \n",
       "1        very_positive  \n",
       "2             positive  \n",
       "3             positive  \n",
       "4              neutral  \n",
       "...                ...  \n",
       "6987           neutral  \n",
       "6988           neutral  \n",
       "6989          positive  \n",
       "6990     very_positive  \n",
       "6991          positive  \n",
       "\n",
       "[6992 rows x 3 columns]"
      ]
     },
     "execution_count": 6,
     "metadata": {},
     "output_type": "execute_result"
    }
   ],
   "source": [
    "#drop another coloumn\n",
    "df = df.drop(columns = ['text_ocr'])\n",
    "df"
   ]
  },
  {
   "cell_type": "code",
   "execution_count": 7,
   "id": "638ae812",
   "metadata": {},
   "outputs": [],
   "source": [
    "#filling Na with empty space\n",
    "df=df.fillna(\"\")"
   ]
  },
  {
   "cell_type": "code",
   "execution_count": 8,
   "id": "dc0b6ad9",
   "metadata": {},
   "outputs": [
    {
     "data": {
      "text/plain": [
       "positive         3127\n",
       "neutral          2201\n",
       "very_positive    1033\n",
       "negative          480\n",
       "very_negative     151\n",
       "Name: overall_sentiment, dtype: int64"
      ]
     },
     "execution_count": 8,
     "metadata": {},
     "output_type": "execute_result"
    }
   ],
   "source": [
    "df[\"overall_sentiment\"].value_counts()"
   ]
  },
  {
   "cell_type": "code",
   "execution_count": 9,
   "id": "91291e5a",
   "metadata": {},
   "outputs": [
    {
     "data": {
      "text/html": [
       "<div>\n",
       "<style scoped>\n",
       "    .dataframe tbody tr th:only-of-type {\n",
       "        vertical-align: middle;\n",
       "    }\n",
       "\n",
       "    .dataframe tbody tr th {\n",
       "        vertical-align: top;\n",
       "    }\n",
       "\n",
       "    .dataframe thead th {\n",
       "        text-align: right;\n",
       "    }\n",
       "</style>\n",
       "<table border=\"1\" class=\"dataframe\">\n",
       "  <thead>\n",
       "    <tr style=\"text-align: right;\">\n",
       "      <th></th>\n",
       "      <th>image_name</th>\n",
       "      <th>text_corrected</th>\n",
       "      <th>overall_sentiment</th>\n",
       "    </tr>\n",
       "  </thead>\n",
       "  <tbody>\n",
       "    <tr>\n",
       "      <th>0</th>\n",
       "      <td>image_1.jpg</td>\n",
       "      <td>LOOK THERE MY FRIEND LIGHTYEAR NOW ALL SOHALIK...</td>\n",
       "      <td>1</td>\n",
       "    </tr>\n",
       "    <tr>\n",
       "      <th>1</th>\n",
       "      <td>image_2.jpeg</td>\n",
       "      <td>The best of #10 YearChallenge! Completed in le...</td>\n",
       "      <td>1</td>\n",
       "    </tr>\n",
       "    <tr>\n",
       "      <th>2</th>\n",
       "      <td>image_3.JPG</td>\n",
       "      <td>Sam Thorne @Strippin ( Follow Follow Saw every...</td>\n",
       "      <td>1</td>\n",
       "    </tr>\n",
       "    <tr>\n",
       "      <th>3</th>\n",
       "      <td>image_4.png</td>\n",
       "      <td>10 Year Challenge - Sweet Dee Edition</td>\n",
       "      <td>1</td>\n",
       "    </tr>\n",
       "    <tr>\n",
       "      <th>4</th>\n",
       "      <td>image_5.png</td>\n",
       "      <td>10 YEAR CHALLENGE WITH NO FILTER 47 Hilarious ...</td>\n",
       "      <td>0</td>\n",
       "    </tr>\n",
       "    <tr>\n",
       "      <th>...</th>\n",
       "      <td>...</td>\n",
       "      <td>...</td>\n",
       "      <td>...</td>\n",
       "    </tr>\n",
       "    <tr>\n",
       "      <th>6987</th>\n",
       "      <td>image_6988.jpg</td>\n",
       "      <td>Tuesday is Mardi Gras Wednesday is Valentine's...</td>\n",
       "      <td>0</td>\n",
       "    </tr>\n",
       "    <tr>\n",
       "      <th>6988</th>\n",
       "      <td>image_6989.jpg</td>\n",
       "      <td>MUST WATCH MOVIES OF 2017 ITI Chennai memes MA...</td>\n",
       "      <td>0</td>\n",
       "    </tr>\n",
       "    <tr>\n",
       "      <th>6989</th>\n",
       "      <td>image_6990.png</td>\n",
       "      <td>LESS MORE TALKING PLANNING SODA JUNK FOOD COMP...</td>\n",
       "      <td>1</td>\n",
       "    </tr>\n",
       "    <tr>\n",
       "      <th>6990</th>\n",
       "      <td>image_6991.jpg</td>\n",
       "      <td>When I have time is a fantasy. no one has time...</td>\n",
       "      <td>1</td>\n",
       "    </tr>\n",
       "    <tr>\n",
       "      <th>6991</th>\n",
       "      <td>image_6992.jpg</td>\n",
       "      <td>The starting point for every good idea is \"Wha...</td>\n",
       "      <td>1</td>\n",
       "    </tr>\n",
       "  </tbody>\n",
       "</table>\n",
       "<p>6992 rows × 3 columns</p>\n",
       "</div>"
      ],
      "text/plain": [
       "          image_name                                     text_corrected  \\\n",
       "0        image_1.jpg  LOOK THERE MY FRIEND LIGHTYEAR NOW ALL SOHALIK...   \n",
       "1       image_2.jpeg  The best of #10 YearChallenge! Completed in le...   \n",
       "2        image_3.JPG  Sam Thorne @Strippin ( Follow Follow Saw every...   \n",
       "3        image_4.png              10 Year Challenge - Sweet Dee Edition   \n",
       "4        image_5.png  10 YEAR CHALLENGE WITH NO FILTER 47 Hilarious ...   \n",
       "...              ...                                                ...   \n",
       "6987  image_6988.jpg  Tuesday is Mardi Gras Wednesday is Valentine's...   \n",
       "6988  image_6989.jpg  MUST WATCH MOVIES OF 2017 ITI Chennai memes MA...   \n",
       "6989  image_6990.png  LESS MORE TALKING PLANNING SODA JUNK FOOD COMP...   \n",
       "6990  image_6991.jpg  When I have time is a fantasy. no one has time...   \n",
       "6991  image_6992.jpg  The starting point for every good idea is \"Wha...   \n",
       "\n",
       "      overall_sentiment  \n",
       "0                     1  \n",
       "1                     1  \n",
       "2                     1  \n",
       "3                     1  \n",
       "4                     0  \n",
       "...                 ...  \n",
       "6987                  0  \n",
       "6988                  0  \n",
       "6989                  1  \n",
       "6990                  1  \n",
       "6991                  1  \n",
       "\n",
       "[6992 rows x 3 columns]"
      ]
     },
     "execution_count": 9,
     "metadata": {},
     "output_type": "execute_result"
    }
   ],
   "source": [
    "#replacing string with int for overall_sentiments\n",
    "df=df.replace(to_replace =\"very_positive\", value =1)\n",
    "df=df.replace(to_replace =\"positive\", value =1)\n",
    "df=df.replace(to_replace =\"very_negative\", value =2)\n",
    "df=df.replace(to_replace =\"negative\", value =2)\n",
    "df=df.replace(to_replace =\"neutral\", value =0)\n",
    "df"
   ]
  },
  {
   "cell_type": "code",
   "execution_count": 10,
   "id": "d048965b",
   "metadata": {},
   "outputs": [
    {
     "data": {
      "text/plain": [
       "(6992, 12927)"
      ]
     },
     "execution_count": 10,
     "metadata": {},
     "output_type": "execute_result"
    }
   ],
   "source": [
    "#Learn the vocabulary dictionary and return document-term matrix.\n",
    "x =cv().fit_transform(df[\"text_corrected\"]).toarray()\n",
    "x.shape"
   ]
  },
  {
   "cell_type": "code",
   "execution_count": 11,
   "id": "81adabf1",
   "metadata": {},
   "outputs": [
    {
     "data": {
      "text/html": [
       "<div>\n",
       "<style scoped>\n",
       "    .dataframe tbody tr th:only-of-type {\n",
       "        vertical-align: middle;\n",
       "    }\n",
       "\n",
       "    .dataframe tbody tr th {\n",
       "        vertical-align: top;\n",
       "    }\n",
       "\n",
       "    .dataframe thead th {\n",
       "        text-align: right;\n",
       "    }\n",
       "</style>\n",
       "<table border=\"1\" class=\"dataframe\">\n",
       "  <thead>\n",
       "    <tr style=\"text-align: right;\">\n",
       "      <th></th>\n",
       "      <th>image_name</th>\n",
       "      <th>text_corrected</th>\n",
       "      <th>overall_sentiment</th>\n",
       "    </tr>\n",
       "  </thead>\n",
       "  <tbody>\n",
       "    <tr>\n",
       "      <th>0</th>\n",
       "      <td>image_1.jpg</td>\n",
       "      <td>look there my friend lightyear now all sohalik...</td>\n",
       "      <td>1</td>\n",
       "    </tr>\n",
       "    <tr>\n",
       "      <th>1</th>\n",
       "      <td>image_2.jpeg</td>\n",
       "      <td>the best of #10 yearchallenge! completed in le...</td>\n",
       "      <td>1</td>\n",
       "    </tr>\n",
       "    <tr>\n",
       "      <th>2</th>\n",
       "      <td>image_3.JPG</td>\n",
       "      <td>sam thorne @strippin ( follow follow saw every...</td>\n",
       "      <td>1</td>\n",
       "    </tr>\n",
       "    <tr>\n",
       "      <th>3</th>\n",
       "      <td>image_4.png</td>\n",
       "      <td>10 year challenge - sweet dee edition</td>\n",
       "      <td>1</td>\n",
       "    </tr>\n",
       "    <tr>\n",
       "      <th>4</th>\n",
       "      <td>image_5.png</td>\n",
       "      <td>10 year challenge with no filter 47 hilarious ...</td>\n",
       "      <td>0</td>\n",
       "    </tr>\n",
       "    <tr>\n",
       "      <th>...</th>\n",
       "      <td>...</td>\n",
       "      <td>...</td>\n",
       "      <td>...</td>\n",
       "    </tr>\n",
       "    <tr>\n",
       "      <th>6987</th>\n",
       "      <td>image_6988.jpg</td>\n",
       "      <td>tuesday is mardi gras wednesday is valentine's...</td>\n",
       "      <td>0</td>\n",
       "    </tr>\n",
       "    <tr>\n",
       "      <th>6988</th>\n",
       "      <td>image_6989.jpg</td>\n",
       "      <td>must watch movies of 2017 iti chennai memes ma...</td>\n",
       "      <td>0</td>\n",
       "    </tr>\n",
       "    <tr>\n",
       "      <th>6989</th>\n",
       "      <td>image_6990.png</td>\n",
       "      <td>less more talking planning soda junk food comp...</td>\n",
       "      <td>1</td>\n",
       "    </tr>\n",
       "    <tr>\n",
       "      <th>6990</th>\n",
       "      <td>image_6991.jpg</td>\n",
       "      <td>when i have time is a fantasy. no one has time...</td>\n",
       "      <td>1</td>\n",
       "    </tr>\n",
       "    <tr>\n",
       "      <th>6991</th>\n",
       "      <td>image_6992.jpg</td>\n",
       "      <td>the starting point for every good idea is \"wha...</td>\n",
       "      <td>1</td>\n",
       "    </tr>\n",
       "  </tbody>\n",
       "</table>\n",
       "<p>6992 rows × 3 columns</p>\n",
       "</div>"
      ],
      "text/plain": [
       "          image_name                                     text_corrected  \\\n",
       "0        image_1.jpg  look there my friend lightyear now all sohalik...   \n",
       "1       image_2.jpeg  the best of #10 yearchallenge! completed in le...   \n",
       "2        image_3.JPG  sam thorne @strippin ( follow follow saw every...   \n",
       "3        image_4.png              10 year challenge - sweet dee edition   \n",
       "4        image_5.png  10 year challenge with no filter 47 hilarious ...   \n",
       "...              ...                                                ...   \n",
       "6987  image_6988.jpg  tuesday is mardi gras wednesday is valentine's...   \n",
       "6988  image_6989.jpg  must watch movies of 2017 iti chennai memes ma...   \n",
       "6989  image_6990.png  less more talking planning soda junk food comp...   \n",
       "6990  image_6991.jpg  when i have time is a fantasy. no one has time...   \n",
       "6991  image_6992.jpg  the starting point for every good idea is \"wha...   \n",
       "\n",
       "      overall_sentiment  \n",
       "0                     1  \n",
       "1                     1  \n",
       "2                     1  \n",
       "3                     1  \n",
       "4                     0  \n",
       "...                 ...  \n",
       "6987                  0  \n",
       "6988                  0  \n",
       "6989                  1  \n",
       "6990                  1  \n",
       "6991                  1  \n",
       "\n",
       "[6992 rows x 3 columns]"
      ]
     },
     "execution_count": 11,
     "metadata": {},
     "output_type": "execute_result"
    }
   ],
   "source": [
    "#converts 'text_corrected' to lower case\n",
    "df[\"text_corrected\"] = df[\"text_corrected\"].str.lower()\n",
    "df"
   ]
  },
  {
   "cell_type": "code",
   "execution_count": 12,
   "id": "e4566e44",
   "metadata": {},
   "outputs": [
    {
     "name": "stderr",
     "output_type": "stream",
     "text": [
      "C:\\Users\\DELL\\AppData\\Local\\Temp\\ipykernel_17416\\2661233903.py:2: FutureWarning: The default value of regex will change from True to False in a future version.\n",
      "  df['text_corrected'] = df['text_corrected'].str.replace('[^\\w\\s]', '')\n"
     ]
    },
    {
     "data": {
      "text/html": [
       "<div>\n",
       "<style scoped>\n",
       "    .dataframe tbody tr th:only-of-type {\n",
       "        vertical-align: middle;\n",
       "    }\n",
       "\n",
       "    .dataframe tbody tr th {\n",
       "        vertical-align: top;\n",
       "    }\n",
       "\n",
       "    .dataframe thead th {\n",
       "        text-align: right;\n",
       "    }\n",
       "</style>\n",
       "<table border=\"1\" class=\"dataframe\">\n",
       "  <thead>\n",
       "    <tr style=\"text-align: right;\">\n",
       "      <th></th>\n",
       "      <th>image_name</th>\n",
       "      <th>text_corrected</th>\n",
       "      <th>overall_sentiment</th>\n",
       "    </tr>\n",
       "  </thead>\n",
       "  <tbody>\n",
       "    <tr>\n",
       "      <th>0</th>\n",
       "      <td>image_1.jpg</td>\n",
       "      <td>look there my friend lightyear now all sohalik...</td>\n",
       "      <td>1</td>\n",
       "    </tr>\n",
       "    <tr>\n",
       "      <th>1</th>\n",
       "      <td>image_2.jpeg</td>\n",
       "      <td>the best of 10 yearchallenge completed in less...</td>\n",
       "      <td>1</td>\n",
       "    </tr>\n",
       "    <tr>\n",
       "      <th>2</th>\n",
       "      <td>image_3.JPG</td>\n",
       "      <td>sam thorne strippin  follow follow saw everyon...</td>\n",
       "      <td>1</td>\n",
       "    </tr>\n",
       "    <tr>\n",
       "      <th>3</th>\n",
       "      <td>image_4.png</td>\n",
       "      <td>10 year challenge  sweet dee edition</td>\n",
       "      <td>1</td>\n",
       "    </tr>\n",
       "    <tr>\n",
       "      <th>4</th>\n",
       "      <td>image_5.png</td>\n",
       "      <td>10 year challenge with no filter 47 hilarious ...</td>\n",
       "      <td>0</td>\n",
       "    </tr>\n",
       "    <tr>\n",
       "      <th>...</th>\n",
       "      <td>...</td>\n",
       "      <td>...</td>\n",
       "      <td>...</td>\n",
       "    </tr>\n",
       "    <tr>\n",
       "      <th>6987</th>\n",
       "      <td>image_6988.jpg</td>\n",
       "      <td>tuesday is mardi gras wednesday is valentines ...</td>\n",
       "      <td>0</td>\n",
       "    </tr>\n",
       "    <tr>\n",
       "      <th>6988</th>\n",
       "      <td>image_6989.jpg</td>\n",
       "      <td>must watch movies of 2017 iti chennai memes ma...</td>\n",
       "      <td>0</td>\n",
       "    </tr>\n",
       "    <tr>\n",
       "      <th>6989</th>\n",
       "      <td>image_6990.png</td>\n",
       "      <td>less more talking planning soda junk food comp...</td>\n",
       "      <td>1</td>\n",
       "    </tr>\n",
       "    <tr>\n",
       "      <th>6990</th>\n",
       "      <td>image_6991.jpg</td>\n",
       "      <td>when i have time is a fantasy no one has time ...</td>\n",
       "      <td>1</td>\n",
       "    </tr>\n",
       "    <tr>\n",
       "      <th>6991</th>\n",
       "      <td>image_6992.jpg</td>\n",
       "      <td>the starting point for every good idea is what...</td>\n",
       "      <td>1</td>\n",
       "    </tr>\n",
       "  </tbody>\n",
       "</table>\n",
       "<p>6992 rows × 3 columns</p>\n",
       "</div>"
      ],
      "text/plain": [
       "          image_name                                     text_corrected  \\\n",
       "0        image_1.jpg  look there my friend lightyear now all sohalik...   \n",
       "1       image_2.jpeg  the best of 10 yearchallenge completed in less...   \n",
       "2        image_3.JPG  sam thorne strippin  follow follow saw everyon...   \n",
       "3        image_4.png               10 year challenge  sweet dee edition   \n",
       "4        image_5.png  10 year challenge with no filter 47 hilarious ...   \n",
       "...              ...                                                ...   \n",
       "6987  image_6988.jpg  tuesday is mardi gras wednesday is valentines ...   \n",
       "6988  image_6989.jpg  must watch movies of 2017 iti chennai memes ma...   \n",
       "6989  image_6990.png  less more talking planning soda junk food comp...   \n",
       "6990  image_6991.jpg  when i have time is a fantasy no one has time ...   \n",
       "6991  image_6992.jpg  the starting point for every good idea is what...   \n",
       "\n",
       "      overall_sentiment  \n",
       "0                     1  \n",
       "1                     1  \n",
       "2                     1  \n",
       "3                     1  \n",
       "4                     0  \n",
       "...                 ...  \n",
       "6987                  0  \n",
       "6988                  0  \n",
       "6989                  1  \n",
       "6990                  1  \n",
       "6991                  1  \n",
       "\n",
       "[6992 rows x 3 columns]"
      ]
     },
     "execution_count": 12,
     "metadata": {},
     "output_type": "execute_result"
    }
   ],
   "source": [
    "#removes special characters from coloumn 'text_corrected'\n",
    "df['text_corrected'] = df['text_corrected'].str.replace('[^\\w\\s]', '')\n",
    "df"
   ]
  },
  {
   "cell_type": "code",
   "execution_count": 13,
   "id": "1f254a7f",
   "metadata": {},
   "outputs": [
    {
     "data": {
      "text/html": [
       "<div>\n",
       "<style scoped>\n",
       "    .dataframe tbody tr th:only-of-type {\n",
       "        vertical-align: middle;\n",
       "    }\n",
       "\n",
       "    .dataframe tbody tr th {\n",
       "        vertical-align: top;\n",
       "    }\n",
       "\n",
       "    .dataframe thead th {\n",
       "        text-align: right;\n",
       "    }\n",
       "</style>\n",
       "<table border=\"1\" class=\"dataframe\">\n",
       "  <thead>\n",
       "    <tr style=\"text-align: right;\">\n",
       "      <th></th>\n",
       "      <th>text_corrected</th>\n",
       "      <th>overall_sentiment</th>\n",
       "    </tr>\n",
       "  </thead>\n",
       "  <tbody>\n",
       "    <tr>\n",
       "      <th>0</th>\n",
       "      <td>look there my friend lightyear now all sohalik...</td>\n",
       "      <td>1</td>\n",
       "    </tr>\n",
       "    <tr>\n",
       "      <th>1</th>\n",
       "      <td>the best of 10 yearchallenge completed in less...</td>\n",
       "      <td>1</td>\n",
       "    </tr>\n",
       "    <tr>\n",
       "      <th>2</th>\n",
       "      <td>sam thorne strippin  follow follow saw everyon...</td>\n",
       "      <td>1</td>\n",
       "    </tr>\n",
       "    <tr>\n",
       "      <th>3</th>\n",
       "      <td>10 year challenge  sweet dee edition</td>\n",
       "      <td>1</td>\n",
       "    </tr>\n",
       "    <tr>\n",
       "      <th>4</th>\n",
       "      <td>10 year challenge with no filter 47 hilarious ...</td>\n",
       "      <td>0</td>\n",
       "    </tr>\n",
       "    <tr>\n",
       "      <th>...</th>\n",
       "      <td>...</td>\n",
       "      <td>...</td>\n",
       "    </tr>\n",
       "    <tr>\n",
       "      <th>6987</th>\n",
       "      <td>tuesday is mardi gras wednesday is valentines ...</td>\n",
       "      <td>0</td>\n",
       "    </tr>\n",
       "    <tr>\n",
       "      <th>6988</th>\n",
       "      <td>must watch movies of 2017 iti chennai memes ma...</td>\n",
       "      <td>0</td>\n",
       "    </tr>\n",
       "    <tr>\n",
       "      <th>6989</th>\n",
       "      <td>less more talking planning soda junk food comp...</td>\n",
       "      <td>1</td>\n",
       "    </tr>\n",
       "    <tr>\n",
       "      <th>6990</th>\n",
       "      <td>when i have time is a fantasy no one has time ...</td>\n",
       "      <td>1</td>\n",
       "    </tr>\n",
       "    <tr>\n",
       "      <th>6991</th>\n",
       "      <td>the starting point for every good idea is what...</td>\n",
       "      <td>1</td>\n",
       "    </tr>\n",
       "  </tbody>\n",
       "</table>\n",
       "<p>6992 rows × 2 columns</p>\n",
       "</div>"
      ],
      "text/plain": [
       "                                         text_corrected  overall_sentiment\n",
       "0     look there my friend lightyear now all sohalik...                  1\n",
       "1     the best of 10 yearchallenge completed in less...                  1\n",
       "2     sam thorne strippin  follow follow saw everyon...                  1\n",
       "3                  10 year challenge  sweet dee edition                  1\n",
       "4     10 year challenge with no filter 47 hilarious ...                  0\n",
       "...                                                 ...                ...\n",
       "6987  tuesday is mardi gras wednesday is valentines ...                  0\n",
       "6988  must watch movies of 2017 iti chennai memes ma...                  0\n",
       "6989  less more talking planning soda junk food comp...                  1\n",
       "6990  when i have time is a fantasy no one has time ...                  1\n",
       "6991  the starting point for every good idea is what...                  1\n",
       "\n",
       "[6992 rows x 2 columns]"
      ]
     },
     "execution_count": 13,
     "metadata": {},
     "output_type": "execute_result"
    }
   ],
   "source": [
    "#dropping coloumn image_name\n",
    "df2 = df.drop(columns = ['image_name'])\n",
    "df2"
   ]
  },
  {
   "cell_type": "code",
   "execution_count": 14,
   "id": "1e874ad0",
   "metadata": {},
   "outputs": [
    {
     "data": {
      "text/plain": [
       "(2372, 12927)"
      ]
     },
     "execution_count": 14,
     "metadata": {},
     "output_type": "execute_result"
    }
   ],
   "source": [
    "#over sampling the data\n",
    "from imblearn.over_sampling import RandomOverSampler as ros\n",
    "x,y=ros().fit_resample(x,df[\"overall_sentiment\"])\n",
    "X_train, X_test, y_train, y_test = train_test_split(x,y, test_size=0.19,shuffle=True)\n",
    "X_test_text = X_test.copy() \n",
    "y_test_text = y_test.copy()\n",
    "X_test.shape"
   ]
  },
  {
   "cell_type": "code",
   "execution_count": 15,
   "id": "26ff835d",
   "metadata": {},
   "outputs": [
    {
     "data": {
      "text/plain": [
       "12338    2\n",
       "11508    2\n",
       "11771    2\n",
       "7189     0\n",
       "11292    2\n",
       "        ..\n",
       "2741     1\n",
       "1635     0\n",
       "31       1\n",
       "7063     0\n",
       "6232     1\n",
       "Name: overall_sentiment, Length: 10108, dtype: int64"
      ]
     },
     "execution_count": 15,
     "metadata": {},
     "output_type": "execute_result"
    }
   ],
   "source": [
    "y_train"
   ]
  },
  {
   "cell_type": "code",
   "execution_count": 16,
   "id": "6564f386",
   "metadata": {},
   "outputs": [
    {
     "data": {
      "text/plain": [
       "8714     0\n",
       "11681    2\n",
       "1777     1\n",
       "6838     1\n",
       "5735     0\n",
       "        ..\n",
       "6379     1\n",
       "7910     0\n",
       "5129     1\n",
       "6556     0\n",
       "7651     0\n",
       "Name: overall_sentiment, Length: 2372, dtype: int64"
      ]
     },
     "execution_count": 16,
     "metadata": {},
     "output_type": "execute_result"
    }
   ],
   "source": [
    "y_test"
   ]
  },
  {
   "cell_type": "code",
   "execution_count": 17,
   "id": "ae9295e3",
   "metadata": {},
   "outputs": [
    {
     "name": "stderr",
     "output_type": "stream",
     "text": [
      "C:\\Users\\DELL\\anaconda3\\lib\\site-packages\\sklearn\\linear_model\\_logistic.py:458: ConvergenceWarning: lbfgs failed to converge (status=1):\n",
      "STOP: TOTAL NO. of ITERATIONS REACHED LIMIT.\n",
      "\n",
      "Increase the number of iterations (max_iter) or scale the data as shown in:\n",
      "    https://scikit-learn.org/stable/modules/preprocessing.html\n",
      "Please also refer to the documentation for alternative solver options:\n",
      "    https://scikit-learn.org/stable/modules/linear_model.html#logistic-regression\n",
      "  n_iter_i = _check_optimize_result(\n"
     ]
    }
   ],
   "source": [
    "#logistic Regression\n",
    "model1=lr()\n",
    "model1.fit(X_train,y_train)\n",
    "y_pred=model1.predict(X_test)"
   ]
  },
  {
   "cell_type": "code",
   "execution_count": 18,
   "id": "5b11ab47",
   "metadata": {},
   "outputs": [
    {
     "name": "stdout",
     "output_type": "stream",
     "text": [
      "For Logistic Regression Accuracy is: 76.89713322091062 \n",
      "Recall_Score is: 0.765045159118897 \n",
      "Precision: 0.7713629179716782\n",
      "F1_Score is: 0.7763134281568951\n",
      "confusion matrix is: \n",
      "[[624 251   7]\n",
      " [165 451   8]\n",
      " [ 29  88 749]]\n"
     ]
    }
   ],
   "source": [
    "from sklearn.metrics import accuracy_score, recall_score,confusion_matrix,precision_score,f1_score\n",
    "confusion1=confusion_matrix(y_pred,y_test)\n",
    "accuracy1=accuracy_score(y_pred,y_test)*100 \n",
    "recall1=recall_score(y_pred,y_test,average=\"macro\")\n",
    "precision1=precision_score(y_pred,y_test,average=\"macro\")\n",
    "f1score1=f1_score(y_pred,y_test,average=\"weighted\")\n",
    "\n",
    "print(f\"For Logistic Regression Accuracy is: {accuracy1} \\nRecall_Score is: {recall1} \\nPrecision: {precision1}\\nF1_Score is: {f1score1}\\nconfusion matrix is: \\n{confusion1}\")"
   ]
  },
  {
   "cell_type": "code",
   "execution_count": 19,
   "id": "c7d74846",
   "metadata": {},
   "outputs": [
    {
     "name": "stdout",
     "output_type": "stream",
     "text": [
      "Accuracy: 0.7424114671163575\n"
     ]
    }
   ],
   "source": [
    "#KNN\n",
    "classifier_knn = KNeighborsClassifier(n_neighbors = 1)\n",
    "classifier_knn.fit(X_train, y_train)\n",
    "y_pred = classifier_knn.predict(X_test)\n",
    "print(\"Accuracy:\", metrics.accuracy_score(y_test, y_pred))"
   ]
  },
  {
   "cell_type": "code",
   "execution_count": 20,
   "id": "75c3dc6e",
   "metadata": {},
   "outputs": [
    {
     "name": "stdout",
     "output_type": "stream",
     "text": [
      "[0 2 2 ... 1 0 0]\n"
     ]
    },
    {
     "data": {
      "text/plain": [
       "0.7883642495784149"
      ]
     },
     "execution_count": 20,
     "metadata": {},
     "output_type": "execute_result"
    }
   ],
   "source": [
    "#Decision Tree\n",
    "clf_dt = tree.DecisionTreeClassifier()\n",
    "clf_dt = clf_dt.fit(X_train, y_train)\n",
    "pred=clf_dt.predict(X_test)\n",
    "print (pred)\n",
    "clf_dt.score(X_test,y_test)"
   ]
  },
  {
   "cell_type": "code",
   "execution_count": 21,
   "id": "465aac8f",
   "metadata": {},
   "outputs": [
    {
     "name": "stdout",
     "output_type": "stream",
     "text": [
      "Accuracy :  78.83642495784149\n",
      "Table : \n",
      "               precision    recall  f1-score   support\n",
      "\n",
      "           0       0.75      0.78      0.76       818\n",
      "           1       0.77      0.59      0.67       790\n",
      "           2       0.84      1.00      0.91       764\n",
      "\n",
      "    accuracy                           0.79      2372\n",
      "   macro avg       0.78      0.79      0.78      2372\n",
      "weighted avg       0.78      0.79      0.78      2372\n",
      "\n",
      "F1 Score :  78.1895224322387\n"
     ]
    }
   ],
   "source": [
    "print (\"Accuracy : \" , accuracy_score(y_test,pred)*100)  \n",
    "print(\"Table : \\n\", classification_report(y_test, pred))\n",
    "print(\"F1 Score : \",f1_score(y_test, pred, average='macro')*100)"
   ]
  },
  {
   "cell_type": "markdown",
   "id": "5731ff2c",
   "metadata": {},
   "source": [
    "Image Processing"
   ]
  },
  {
   "cell_type": "code",
   "execution_count": 22,
   "id": "9520ad50",
   "metadata": {},
   "outputs": [],
   "source": [
    "import cv2"
   ]
  },
  {
   "cell_type": "code",
   "execution_count": 23,
   "id": "4f9be2cd",
   "metadata": {},
   "outputs": [],
   "source": [
    "#file path for images\n",
    "imagePath = r\"C:\\Users\\DELL\\Downloads\\final project\\images\\image_1.jpg\"\n",
    "image = cv2.imread(imagePath)"
   ]
  },
  {
   "cell_type": "code",
   "execution_count": 24,
   "id": "58ba7b92",
   "metadata": {},
   "outputs": [
    {
     "name": "stdout",
     "output_type": "stream",
     "text": [
      "[[[ 97  99 133]\n",
      "  [ 97  99 133]\n",
      "  [ 97  99 133]\n",
      "  ...\n",
      "  [105 102  97]\n",
      "  [104 101  96]\n",
      "  [103 100  95]]\n",
      "\n",
      " [[ 97  99 133]\n",
      "  [ 96  98 132]\n",
      "  [ 96  98 132]\n",
      "  ...\n",
      "  [105 102  97]\n",
      "  [104 101  96]\n",
      "  [103 100  95]]\n",
      "\n",
      " [[ 96  98 132]\n",
      "  [ 96  98 132]\n",
      "  [ 96  98 132]\n",
      "  ...\n",
      "  [105 102  97]\n",
      "  [104 101  96]\n",
      "  [103 100  95]]\n",
      "\n",
      " ...\n",
      "\n",
      " [[ 49  70 122]\n",
      "  [ 55  73 120]\n",
      "  [ 64  76 112]\n",
      "  ...\n",
      "  [ 50  76 142]\n",
      "  [ 49  75 141]\n",
      "  [ 48  74 140]]\n",
      "\n",
      " [[ 74  95 147]\n",
      "  [ 78  96 143]\n",
      "  [ 87  99 135]\n",
      "  ...\n",
      "  [ 50  76 142]\n",
      "  [ 49  75 141]\n",
      "  [ 48  74 140]]\n",
      "\n",
      " [[ 54  75 127]\n",
      "  [ 58  76 123]\n",
      "  [ 66  78 114]\n",
      "  ...\n",
      "  [ 50  76 142]\n",
      "  [ 49  75 141]\n",
      "  [ 48  74 140]]]\n"
     ]
    }
   ],
   "source": [
    "print(image)"
   ]
  },
  {
   "cell_type": "code",
   "execution_count": 25,
   "id": "eb2a3628",
   "metadata": {},
   "outputs": [
    {
     "data": {
      "text/plain": [
       "array([ 97,  99, 133, ...,  48,  74, 140], dtype=uint8)"
      ]
     },
     "execution_count": 25,
     "metadata": {},
     "output_type": "execute_result"
    }
   ],
   "source": [
    "#turning into 1D array\n",
    "a = image.flatten()\n",
    "a"
   ]
  },
  {
   "cell_type": "code",
   "execution_count": 26,
   "id": "9021d948",
   "metadata": {},
   "outputs": [
    {
     "data": {
      "text/plain": [
       "<matplotlib.image.AxesImage at 0x1d709f76910>"
      ]
     },
     "execution_count": 26,
     "metadata": {},
     "output_type": "execute_result"
    },
    {
     "data": {
      "image/png": "[encoded data removed]",
      "text/plain": [
       "<Figure size 432x288 with 1 Axes>"
      ]
     },
     "metadata": {
      "needs_background": "light"
     },
     "output_type": "display_data"
    }
   ],
   "source": [
    "plt.imshow(image)"
   ]
  }
 ],
 "metadata": {
  "kernelspec": {
   "display_name": "Python 3 (ipykernel)",
   "language": "python",
   "name": "python3"
  },
  "language_info": {
   "codemirror_mode": {
    "name": "ipython",
    "version": 3
   },
   "file_extension": ".py",
   "mimetype": "text/x-python",
   "name": "python",
   "nbconvert_exporter": "python",
   "pygments_lexer": "ipython3",
   "version": "3.9.12"
  }
 },
 "nbformat": 4,
 "nbformat_minor": 5
}
